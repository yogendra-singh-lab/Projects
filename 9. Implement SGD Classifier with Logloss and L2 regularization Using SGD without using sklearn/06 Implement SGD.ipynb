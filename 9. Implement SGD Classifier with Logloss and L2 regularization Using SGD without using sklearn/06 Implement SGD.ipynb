{
 "cells": [
  {
   "cell_type": "code",
   "execution_count": 1,
   "metadata": {
    "colab": {},
    "colab_type": "code",
    "id": "REYPoTJ1Af7u"
   },
   "outputs": [],
   "source": [
    "import warnings\n",
    "warnings.filterwarnings(\"ignore\")\n",
    "from sklearn.datasets import load_boston\n",
    "from random import seed\n",
    "from random import randrange\n",
    "from csv import reader\n",
    "from math import sqrt\n",
    "import numpy as np\n",
    "import matplotlib.pyplot as plt\n",
    "from sklearn.linear_model import SGDRegressor\n",
    "from sklearn import preprocessing\n",
    "from sklearn.metrics import mean_squared_error\n",
    "import time"
   ]
  },
  {
   "cell_type": "code",
   "execution_count": 27,
   "metadata": {
    "colab": {},
    "colab_type": "code",
    "id": "NTQ2iH-kAwbo"
   },
   "outputs": [],
   "source": [
    "X = load_boston().data\n",
    "Y = load_boston().target"
   ]
  },
  {
   "cell_type": "code",
   "execution_count": 30,
   "metadata": {},
   "outputs": [
    {
     "name": "stdout",
     "output_type": "stream",
     "text": [
      "(506, 13)\n"
     ]
    }
   ],
   "source": [
    "print(X.shape)\n",
    "# 506 samples and 13 features"
   ]
  },
  {
   "cell_type": "code",
   "execution_count": 31,
   "metadata": {},
   "outputs": [
    {
     "name": "stdout",
     "output_type": "stream",
     "text": [
      "Mean : 70.07396704469443\n",
      "Max  : 711.0\n",
      "Min  : 0.0\n"
     ]
    }
   ],
   "source": [
    "print(\"Mean : {}\".format(X.mean()))\n",
    "print(\"Max  : {}\".format(X.max()))\n",
    "print(\"Min  : {}\".format(X.min()))"
   ]
  },
  {
   "cell_type": "code",
   "execution_count": 33,
   "metadata": {},
   "outputs": [
    {
     "name": "stdout",
     "output_type": "stream",
     "text": [
      "(506,)\n"
     ]
    }
   ],
   "source": [
    "print(Y.shape)\n",
    "# Target is the house price in each sample"
   ]
  },
  {
   "cell_type": "code",
   "execution_count": 34,
   "metadata": {
    "colab": {},
    "colab_type": "code",
    "id": "FgUW39s6Be0U"
   },
   "outputs": [],
   "source": [
    "# scaling the data for faster gradient descent\n",
    "scaler = preprocessing.StandardScaler().fit(X)\n",
    "X = scaler.transform(X)"
   ]
  },
  {
   "cell_type": "code",
   "execution_count": 35,
   "metadata": {},
   "outputs": [
    {
     "name": "stdout",
     "output_type": "stream",
     "text": [
      "Mean : -1.1147462804871136e-15\n",
      "Max  : 9.933930601860268\n",
      "Min  : -3.9071933049810337\n"
     ]
    }
   ],
   "source": [
    "print(\"Mean : {}\".format(X.mean()))\n",
    "print(\"Max  : {}\".format(X.max()))\n",
    "print(\"Min  : {}\".format(X.min()))"
   ]
  },
  {
   "cell_type": "code",
   "execution_count": 171,
   "metadata": {
    "colab": {
     "base_uri": "https://localhost:8080/",
     "height": 34
    },
    "colab_type": "code",
    "executionInfo": {
     "elapsed": 879,
     "status": "ok",
     "timestamp": 1545718892607,
     "user": {
      "displayName": "Applied AI Course",
      "photoUrl": "https://lh5.googleusercontent.com/-9_3A9F-kDXs/AAAAAAAAAAI/AAAAAAAAACw/IprjYvUuoXQ/s64/photo.jpg",
      "userId": "00484516897554883881"
     },
     "user_tz": -330
    },
    "id": "HNu1sXtEBBS2",
    "outputId": "a0c5d3d0-345c-4a34-8ccf-0d9f3d7d23fd"
   },
   "outputs": [
    {
     "name": "stdout",
     "output_type": "stream",
     "text": [
      "23.028034816777073\n"
     ]
    }
   ],
   "source": [
    "clf = SGDRegressor()\n",
    "clf.fit(X, Y)\n",
    "print(mean_squared_error(Y, clf.predict(X)))"
   ]
  },
  {
   "cell_type": "markdown",
   "metadata": {},
   "source": [
    "#### Implementing our own gradient descent function"
   ]
  },
  {
   "cell_type": "code",
   "execution_count": 37,
   "metadata": {},
   "outputs": [],
   "source": [
    "samples = X.shape[0]\n",
    "iterations = 300"
   ]
  },
  {
   "cell_type": "code",
   "execution_count": 38,
   "metadata": {},
   "outputs": [],
   "source": [
    "# Adding the 'bias' column with the features columns\n",
    "X = np.c_[np.ones(samples), X]"
   ]
  },
  {
   "cell_type": "code",
   "execution_count": 39,
   "metadata": {},
   "outputs": [],
   "source": [
    "# shuffle data X and Y\n",
    "# https://stackoverflow.com/questions/4601373/better-way-to-shuffle-two-numpy-arrays-in-unison\n",
    "randomize = np.arange(len(X))\n",
    "np.random.shuffle(randomize)\n",
    "X = X[randomize]\n",
    "Y = Y[randomize]"
   ]
  },
  {
   "cell_type": "code",
   "execution_count": 40,
   "metadata": {},
   "outputs": [],
   "source": [
    "Y = Y.reshape(Y.shape[0], 1)"
   ]
  },
  {
   "cell_type": "code",
   "execution_count": 41,
   "metadata": {},
   "outputs": [
    {
     "data": {
      "text/plain": [
       "(506, 14)"
      ]
     },
     "execution_count": 41,
     "metadata": {},
     "output_type": "execute_result"
    }
   ],
   "source": [
    "X.shape"
   ]
  },
  {
   "cell_type": "code",
   "execution_count": 13,
   "metadata": {},
   "outputs": [],
   "source": [
    "def gradient_descent(X, Y, learning_rate=0.01, iterations=400, batch_Size=0):\n",
    "    # X is matrix used for predictions along with the added bias column\n",
    "    # Y target variable\n",
    "    # learning rate determines the step size in the direction of gradient\n",
    "    # iterations are the num of times for the algo to run\n",
    "    # batch_Size=1 means SGD, 0 means GD and specify batch for mini-batch\n",
    "    \n",
    "    # sanity check\n",
    "    assert(Y.shape == (X.shape[0], 1))\n",
    "    assert(batch_Size >= 0)\n",
    "    samples = X.shape[0]\n",
    "    \n",
    "    start = time.time()\n",
    "    \n",
    "    # theta initialised with random\n",
    "    theta = np.random.randn(X.shape[1], 1)\n",
    "    # storing the cost values per iteration to plot later\n",
    "    cost_hist = np.zeros(iterations)\n",
    "    \n",
    "    for i_num in range(iterations):\n",
    "        if batch_Size == 0:\n",
    "            prediction = np.dot(X,theta)\n",
    "            theta -= (1/samples) * learning_rate * np.dot(X.T, prediction-Y)\n",
    "            prediction = np.dot(X,theta)\n",
    "            cost_hist[i_num] = np.sum(np.square(prediction-Y)) / (2*samples)\n",
    "        \n",
    "        elif batch_Size == 1:\n",
    "            cost = 0.0\n",
    "            for s in range(samples):\n",
    "                # iterate over each of the samples as they are already shuffled\n",
    "                X_i = X[s,:].reshape(1,X.shape[1])\n",
    "                Y_i = Y[s].reshape(1,1)\n",
    "                prediction = np.dot(X_i,theta)\n",
    "                theta -= learning_rate * np.dot(X_i.T, prediction-Y_i)\n",
    "                prediction = np.dot(X_i,theta)\n",
    "                cost += np.sum(np.square(prediction-Y_i)) / 2\n",
    "            cost_hist[i_num] = cost/samples\n",
    "        \n",
    "        else:\n",
    "            cost = 0.0\n",
    "            n_batches = samples//batch_Size\n",
    "            batches = np.random.permutation(samples - batch_Size +1)[:n_batches]\n",
    "            for bat in batches:\n",
    "                # iterate over each of the batches\n",
    "                X_i = X[bat: bat + batch_Size]\n",
    "                Y_i = Y[bat: bat + batch_Size]\n",
    "                prediction = np.dot(X_i,theta)\n",
    "                theta -= (1/batch_Size)*learning_rate*np.dot(X_i.T,prediction-Y_i)\n",
    "                prediction = np.dot(X_i,theta)\n",
    "                cost += np.sum(np.square(prediction-Y_i)) / (2*batch_Size)\n",
    "            cost_hist[i_num] = cost/batch_Size\n",
    "    \n",
    "    end = time.time()\n",
    "    print(\"Run time : {} ms\".format(round((end-start)*1000, 2)))\n",
    "    return theta, cost_hist"
   ]
  },
  {
   "cell_type": "code",
   "execution_count": 42,
   "metadata": {},
   "outputs": [
    {
     "name": "stdout",
     "output_type": "stream",
     "text": [
      "Run time : 22.72 ms\n"
     ]
    }
   ],
   "source": [
    "# Batch gradient descent\n",
    "theta_gd, cost_hist_gd = gradient_descent(X, Y, \n",
    "                        iterations=iterations, batch_Size=0)"
   ]
  },
  {
   "cell_type": "code",
   "execution_count": 43,
   "metadata": {},
   "outputs": [
    {
     "name": "stdout",
     "output_type": "stream",
     "text": [
      "Run time : 2072.1 ms\n"
     ]
    }
   ],
   "source": [
    "# stochastic gradient descent\n",
    "theta_sgd, cost_hist_sgd = gradient_descent(X, Y, \n",
    "                        iterations=iterations, batch_Size=1)"
   ]
  },
  {
   "cell_type": "code",
   "execution_count": 44,
   "metadata": {},
   "outputs": [
    {
     "name": "stdout",
     "output_type": "stream",
     "text": [
      "Run time : 118.32 ms\n"
     ]
    }
   ],
   "source": [
    "# mini-batch gradient descent\n",
    "theta_mbgd, cost_hist_mbgd = gradient_descent(X, Y, \n",
    "                        iterations=iterations, batch_Size=25)"
   ]
  },
  {
   "cell_type": "markdown",
   "metadata": {},
   "source": [
    "####  Comparing the cost history graphs"
   ]
  },
  {
   "cell_type": "code",
   "execution_count": 45,
   "metadata": {},
   "outputs": [
    {
     "data": {
      "image/png": "[encoded data removed]",
      "text/plain": [
       "<Figure size 720x576 with 1 Axes>"
      ]
     },
     "metadata": {
      "needs_background": "light"
     },
     "output_type": "display_data"
    }
   ],
   "source": [
    "# Plotting the cost values with iterations graph\n",
    "x_axis = range(iterations)\n",
    "plt.figure(figsize=(10.0, 8.0))\n",
    "markers_on = [i for i in range(iterations) if i%10 ==0]\n",
    "plt.plot(x_axis, cost_hist_gd, '-rx', markevery=markers_on, \n",
    "                     label='Batch GD', )\n",
    "plt.plot(x_axis, cost_hist_mbgd, '-gd', markevery=markers_on, \n",
    "                     label='Mini-Batch GD')\n",
    "plt.plot(x_axis, cost_hist_sgd, '-bo', markevery=markers_on, \n",
    "                     label='Stochastic GD')\n",
    "plt.xlabel(\"Number of Iterations\")\n",
    "plt.ylabel(\"Regression Loss\")\n",
    "plt.title(\"Loss with Iterations Graph\")\n",
    "plt.legend()\n",
    "plt.show()"
   ]
  },
  {
   "cell_type": "code",
   "execution_count": 46,
   "metadata": {},
   "outputs": [
    {
     "name": "stdout",
     "output_type": "stream",
     "text": [
      "22.82971463980024\n"
     ]
    }
   ],
   "source": [
    "clf = SGDRegressor()\n",
    "clf.fit(X, Y)\n",
    "pred_sklearnSGD = clf.predict(X)\n",
    "print(mean_squared_error(Y, pred_sklearnSGD))"
   ]
  },
  {
   "cell_type": "markdown",
   "metadata": {},
   "source": [
    "#### Finding most optimal theta"
   ]
  },
  {
   "cell_type": "code",
   "execution_count": 47,
   "metadata": {},
   "outputs": [
    {
     "name": "stdout",
     "output_type": "stream",
     "text": [
      "[[ 2.25328063e+01]\n",
      " [-9.28146064e-01]\n",
      " [ 1.08156863e+00]\n",
      " [ 1.40899997e-01]\n",
      " [ 6.81739725e-01]\n",
      " [-2.05671827e+00]\n",
      " [ 2.67423017e+00]\n",
      " [ 1.94660717e-02]\n",
      " [-3.10404426e+00]\n",
      " [ 2.66221764e+00]\n",
      " [-2.07678168e+00]\n",
      " [-2.06060666e+00]\n",
      " [ 8.49268418e-01]\n",
      " [-3.74362713e+00]]\n"
     ]
    }
   ],
   "source": [
    "# Since the number of features are not too large and our computational \n",
    "# power is sufficient, lets directly find the optimal value of theta by \n",
    "# using the vectorised normal equation\n",
    "\n",
    "theta_best = np.linalg.inv(X.T.dot(X)).dot(X.T).dot(Y)\n",
    "print(theta_best)"
   ]
  },
  {
   "cell_type": "code",
   "execution_count": 48,
   "metadata": {},
   "outputs": [
    {
     "name": "stdout",
     "output_type": "stream",
     "text": [
      "Error from Optimal Theta : 21.894831181729206\n",
      "Error from Calculated Theta for Batch GD: 24.698483543800545\n",
      "Error from Calculated Theta for Mini-Batch GD: 21.96812758471529\n",
      "Error from Calculated Theta for Stochastic GD: 22.845951445106508\n",
      "Error from Calculated Theta for skLearn SGD: 22.82971463980024\n"
     ]
    }
   ],
   "source": [
    "# Lets compare the Cost value from our gradient descent functions and the \n",
    "# one we get using the most optimal theta value, 'theta_best'\n",
    "\n",
    "pred_best = X.dot(theta_best)\n",
    "print(\"Error from Optimal Theta : {}\".format(mean_squared_error(Y,\n",
    "                                    pred_best)))\n",
    "pred_gd = X.dot(theta_gd)\n",
    "print(\"Error from Calculated Theta for Batch GD: {}\".format(\n",
    "                                mean_squared_error(Y, pred_gd)))\n",
    "pred_mbgd = X.dot(theta_mbgd)\n",
    "print(\"Error from Calculated Theta for Mini-Batch GD: {}\".format(\n",
    "                                mean_squared_error(Y, pred_mbgd)))\n",
    "pred_sgd = X.dot(theta_sgd)\n",
    "print(\"Error from Calculated Theta for Stochastic GD: {}\".format(\n",
    "                                mean_squared_error(Y,pred_sgd)))\n",
    "\n",
    "print(\"Error from Calculated Theta for skLearn SGD: {}\".format(\n",
    "                                mean_squared_error(Y,pred_sklearnSGD)))"
   ]
  },
  {
   "cell_type": "code",
   "execution_count": 49,
   "metadata": {},
   "outputs": [
    {
     "name": "stdout",
     "output_type": "stream",
     "text": [
      "Comparing the weights from our SGD and skLearn Regressor: \n",
      "   1 :   22.46789267   -    11.31434460\n",
      "   2 :  -0.66849967   -   -0.66531255\n",
      "   3 :   1.14203826   -    0.48237328\n",
      "   4 :   0.29153106   -   -0.39389998\n",
      "   5 :   0.64938312   -    0.81531448\n",
      "   6 :  -1.95053319   -   -1.06691459\n",
      "   7 :   2.82412889   -    3.25478057\n",
      "   8 :  -0.28268455   -   -0.14535041\n",
      "   9 :  -2.94866511   -   -2.10835523\n",
      "  10 :   2.86720407   -    0.86533220\n",
      "  11 :  -2.06102117   -   -0.39270045\n",
      "  12 :  -1.61062724   -   -1.82439325\n",
      "  13 :   1.28868717   -    0.93486820\n",
      "  14 :  -4.43665434   -   -3.27933427\n"
     ]
    }
   ],
   "source": [
    "print(\"Comparing the weights from our SGD and skLearn Regressor: \")\n",
    "sklSGD = clf.coef_\n",
    "for i in range(len(sklSGD)):\n",
    "    print(\"  {0:2d} :  {1: 10.8f}   -   {2: 10.8f}\". format(\n",
    "                    i+1,\n",
    "                    theta_sgd[i][0],\n",
    "                    sklSGD[i]))"
   ]
  },
  {
   "cell_type": "markdown",
   "metadata": {},
   "source": [
    "#### Comparing the predictions of our SGD, sklearn SGD and the actual Values"
   ]
  },
  {
   "cell_type": "code",
   "execution_count": 58,
   "metadata": {},
   "outputs": [
    {
     "data": {
      "image/png": "[encoded data removed]",
      "text/plain": [
       "<Figure size 720x576 with 1 Axes>"
      ]
     },
     "metadata": {
      "needs_background": "light"
     },
     "output_type": "display_data"
    }
   ],
   "source": [
    "# Take 25 samples from the 506 samples\n",
    "x_axis = [i for i in range(samples) if i%20==0]\n",
    "plt.figure(figsize=(10.0, 8.0))\n",
    "plt.scatter(x_axis, Y[x_axis], marker='x', \n",
    "                    color='r', label='Actual Values')\n",
    "plt.scatter(x_axis, pred_sklearnSGD[x_axis], marker='o', \n",
    "                    color='b', label='Sklearn SGD')\n",
    "plt.scatter(x_axis, pred_sgd[x_axis], marker='d', \n",
    "                    color='g', label='Our SGD')\n",
    "plt.xlabel(\"Samples\")\n",
    "plt.ylabel(\"Predicted Values\")\n",
    "plt.title(\"Comparison of Predicted Prices\")\n",
    "plt.legend()\n",
    "plt.show()"
   ]
  },
  {
   "cell_type": "code",
   "execution_count": 59,
   "metadata": {},
   "outputs": [],
   "source": [
    "# Hence, we see we were able to beat the SGD regressor score but we couldn't\n",
    "# surpass the score we got from the optimal value of theta "
   ]
  },
  {
   "cell_type": "markdown",
   "metadata": {},
   "source": [
    "#### Conclusions"
   ]
  },
  {
   "cell_type": "markdown",
   "metadata": {},
   "source": [
    "        - Batch Gradient descent is the fastest to execute, followed by mini-batch \n",
    "        gradient descent. The stochastic gradient descent is immensely slow by around \n",
    "        95 times compared to batch.\n",
    "        \n",
    "        - On the other hand, we see stochastic gradient descent is fastest to converge\n",
    "        around the optimal theta and batch gradient descent is the slowest. This might\n",
    "        be an observation specific to this dataset. In a linear regression dataset a\n",
    "        few randomly sampled points can give a good approximation of the optimal plane(which\n",
    "        we are trying to fit) and that helps the stochastic and mini-batch to converge faster.\n",
    "        Whereas, the batch gradient while trying to fit the theta plane over all the points \n",
    "        in each iteration, becomes slow. In more complex datasets the stochastic and mini-\n",
    "        batch are expected to show a much more random behaviour.\n",
    "        \n",
    "        - The mini-batch gradient descent came closest to the optimum values of theta,\n",
    "        which we calculated directly by solving the vectorised normal equation. The mean\n",
    "        squared error in this case was even better than the sklearn SGDRegressor error value. \n",
    "        The stochastic gradient descent also came close, but the batch gradient descent has \n",
    "        little amount of error.\n",
    "        \n",
    "        - Overall, we can say considering the time and optimal value of theta, that the mini-\n",
    "        batch gradient descent with batch size of 25 showed the best performance."
   ]
  },
  {
   "cell_type": "code",
   "execution_count": null,
   "metadata": {},
   "outputs": [],
   "source": []
  }
 ],
 "metadata": {
  "colab": {
   "name": "Untitled3.ipynb",
   "provenance": [],
   "version": "0.3.2"
  },
  "kernelspec": {
   "display_name": "Python 3",
   "language": "python",
   "name": "python3"
  },
  "language_info": {
   "codemirror_mode": {
    "name": "ipython",
    "version": 3
   },
   "file_extension": ".py",
   "mimetype": "text/x-python",
   "name": "python",
   "nbconvert_exporter": "python",
   "pygments_lexer": "ipython3",
   "version": "3.7.3"
  }
 },
 "nbformat": 4,
 "nbformat_minor": 1
}
